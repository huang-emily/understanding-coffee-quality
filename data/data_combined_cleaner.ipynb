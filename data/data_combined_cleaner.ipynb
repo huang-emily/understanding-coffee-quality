{
 "cells": [
  {
   "cell_type": "markdown",
   "id": "ac014c4d",
   "metadata": {},
   "source": [
    "# Data Cleaner After Combining Dataset"
   ]
  },
  {
   "cell_type": "code",
   "execution_count": 9,
   "id": "b7bfb34b",
   "metadata": {},
   "outputs": [],
   "source": [
    "import pandas as pd\n",
    "import numpy as np\n",
    "\n",
    "data = pd.read_csv('processed_data/arabica_data_combined.csv')"
   ]
  },
  {
   "cell_type": "code",
   "execution_count": 10,
   "id": "a865afd0",
   "metadata": {},
   "outputs": [],
   "source": [
    "# fix error with one of the country of origins\n",
    "data.loc[data['Country of Origin'] == 'Cote d?Ivoire', 'Color'] = 'Cote d\\'Ivoire'"
   ]
  },
  {
   "cell_type": "code",
   "execution_count": 11,
   "id": "56da366a",
   "metadata": {},
   "outputs": [
    {
     "name": "stdout",
     "output_type": "stream",
     "text": [
      "Number of unique colors before: 28\n",
      "Number of unique colors after: 8\n"
     ]
    },
    {
     "data": {
      "text/plain": [
       "array([nan, 'Green', 'Yellow', 'Brown', 'Yellow-Green', 'Blue-Green',\n",
       "       'Orange', 'Blue', 'Green-Yellow'], dtype=object)"
      ]
     },
     "execution_count": 11,
     "metadata": {},
     "output_type": "execute_result"
    }
   ],
   "source": [
    "print(\"Number of unique colors before: \" + str(data['Color'].nunique()))\n",
    "\n",
    "# Replace all 'y' values in column 'B' with 'new_value'\n",
    "# all the green rows\n",
    "data.loc[data['Color'] == 'green fresh', 'Color'] = 'Green'\n",
    "data.loc[data['Color'] == 'greenish', 'Color'] = 'Green'\n",
    "data.loc[data['Color'] == 'pale greenish', 'Color'] = 'Green'\n",
    "data.loc[data['Color'] == 'greenish/fresh', 'Color'] = 'Green'\n",
    "data.loc[data['Color'] == 'verdoso', 'Color'] = 'Green'\n",
    "data.loc[data['Color'] == 'green', 'Color'] = 'Green'\n",
    "\n",
    "# all the green-yellow rows\n",
    "data.loc[data['Color'] == 'green-yellow', 'Color'] = 'Green-Yellow'\n",
    "\n",
    "# all the brown rows\n",
    "data.loc[data['Color'] == 'brown', 'Color'] = 'Brown'\n",
    "data.loc[data['Color'] == 'brownish', 'Color'] = 'Brown'\n",
    "data.loc[data['Color'] == 'brownish pale', 'Color'] = 'Brown'\n",
    "\n",
    "# all the blue rows\n",
    "data.loc[data['Color'] == 'blue', 'Color'] = 'Blue'\n",
    "\n",
    "# all the blue-green rows\n",
    "data.loc[data['Color'] == 'bluish-green', 'Color'] = 'Blue-Green'\n",
    "data.loc[data['Color'] == 'Bluish-Green', 'Color'] = 'Blue-Green'\n",
    "data.loc[data['Color'] == 'blue-green', 'Color'] = 'Blue-Green'\n",
    "\n",
    "# all the orange rows\n",
    "data.loc[data['Color'] == 'fermented orange', 'Color'] = 'Orange'\n",
    "data.loc[data['Color'] == 'orange', 'Color'] = 'Orange'\n",
    "\n",
    "# all the yellow rows\n",
    "data.loc[data['Color'] == 'yellow', 'Color'] = 'Yellow'\n",
    "data.loc[data['Color'] == 'yellowish', 'Color'] = 'Yellow'\n",
    "data.loc[data['Color'] == 'pale yellow', 'Color'] = 'Yellow'\n",
    "data.loc[data['Color'] == 'pale - yellow', 'Color'] = 'Yellow'\n",
    "data.loc[data['Color'] == 'pale-yellow', 'Color'] = 'Yellow'\n",
    "\n",
    "# all the yellow-green ones\n",
    "data.loc[data['Color'] == 'yellow-green', 'Color'] = 'Yellow-Green'\n",
    "data.loc[data['Color'] == 'yellow green', 'Color'] = 'Yellow-Green'\n",
    "data.loc[data['Color'] == 'yellow -green', 'Color'] = 'Yellow-Green'\n",
    "data.loc[data['Color'] == 'yello-green', 'Color'] = 'Yellow-Green'\n",
    "data.loc[data['Color'] == 'ํyellow-green', 'Color'] = 'Yellow-Green'\n",
    "data.loc[data['Color'] == 'yellow - green', 'Color'] = 'Yellow-Green'\n",
    "data.loc[data['Color'] == 'yellow- green', 'Color'] = 'Yellow-Green'\n",
    "\n",
    "# verify the fixes worked\n",
    "print(\"Number of unique colors after: \" + str(data['Color'].nunique()))\n",
    "data['Color'].unique()"
   ]
  },
  {
   "cell_type": "code",
   "execution_count": 12,
   "id": "e7e4de0a",
   "metadata": {},
   "outputs": [
    {
     "data": {
      "text/plain": [
       "array(['Q4 2024', 'Q3 2025', 'Q4 2025', 'Q1 2025', 'Q2 2025', 'Q2 2015',\n",
       "       'Q2 2010', 'Q1 2015', 'Q3 2013', 'Q3 2012', 'Q3 2010', 'Q2 2016',\n",
       "       'Q2 2014', 'Q4 2011', 'Q2 2017', 'Q4 2015', 'Q2 2012', 'Q1 2011',\n",
       "       'Q4 2014', 'Q1 2014', 'Q1 2012', 'Q4 2017', 'Q4 2012', 'Q1 2013',\n",
       "       'Q2 2013', 'Q3 2016', 'Q3 2015', 'Q4 2010', 'Q3 2017', 'Q1 2017',\n",
       "       'Q2 2011', 'Q4 2016', 'Q3 2011', 'Q4 2013', 'Q1 2018', 'Q3 2014',\n",
       "       'Q1 2016'], dtype=object)"
      ]
     },
     "execution_count": 12,
     "metadata": {},
     "output_type": "execute_result"
    }
   ],
   "source": [
    "# clean out the \\n in some of the values\n",
    "data['Grading Date'] = data['Grading Date'].str.replace('\\n', '')\n",
    "\n",
    "# Split the 'Grading Date' by the space\n",
    "split_date = data['Grading Date'].str.split(' ', expand=True)\n",
    "\n",
    "for i in range(len(split_date[0])):\n",
    "    month = split_date.loc[i, 0]\n",
    "    # Q1: January, February, and March\n",
    "    if month in (\"January\", \"February\", \"March\"):\n",
    "        split_date.loc[i, 0] = \"Q1\"\n",
    "    # Q2: April, May, and June\n",
    "    elif month in (\"April\", \"May\", \"June\"):\n",
    "        split_date.loc[i, 0] = \"Q2\"\n",
    "    # Q3: July, August, and September\n",
    "    elif month in (\"July\", \"August\", \"September\"):\n",
    "        split_date.loc[i, 0] = \"Q3\"\n",
    "    # Q4: October, November, and December \n",
    "    elif month in (\"October\", \"November\", \"December\"):\n",
    "        split_date.loc[i, 0] = \"Q4\"\n",
    "\n",
    "# Recombine the first and third parts with a custom string\n",
    "data['Grading Date'] = split_date[0] + ' ' + split_date[2].fillna('')\n",
    "data['Grading Date'].unique()\n"
   ]
  },
  {
   "cell_type": "code",
   "execution_count": 13,
   "id": "7c66e94a",
   "metadata": {},
   "outputs": [
    {
     "name": "stdout",
     "output_type": "stream",
     "text": [
      "Number of unique harvest years before: 55\n",
      "47\n",
      "Number of unique harvest years after: 28\n"
     ]
    },
    {
     "data": {
      "text/plain": [
       "array(['2019 / 2020', '2024 / 2025', '2025', '2020 / 2021', '2024',\n",
       "       '2023 / 2024', '2023', '2022 / 2023', '2025 / 2026', '2014', nan,\n",
       "       '2013', '2012', '2010', '2009 / 2010', '2009', '2015', '2011',\n",
       "       '2016', '2015 / 2016', '2017', '2010 / 2011', '2013 / 2014',\n",
       "       '2017 / 2018', '2014 / 2015', '2011 / 2012', '2016 / 2017', '2018',\n",
       "       '2008 / 2009'], dtype=object)"
      ]
     },
     "execution_count": 13,
     "metadata": {},
     "output_type": "execute_result"
    }
   ],
   "source": [
    "print(\"Number of unique harvest years before: \" + str(data['Harvest Year'].nunique()))\n",
    "\n",
    "data.loc[data['Harvest Year'] == '2009/2010', 'Harvest Year'] = '2009 / 2010'\n",
    "data.loc[data['Harvest Year'] == '2011/2012', 'Harvest Year'] = '2011 / 2012'\n",
    "data.loc[data['Harvest Year'] == '2013/2014', 'Harvest Year'] = '2013 / 2014'\n",
    "data.loc[data['Harvest Year'] == '2014/2015', 'Harvest Year'] = '2014 / 2015'\n",
    "data.loc[data['Harvest Year'] == '2015/2016', 'Harvest Year'] = '2015 / 2016'\n",
    "data.loc[data['Harvest Year'] == '2016/2017', 'Harvest Year'] = '2016 / 2017'\n",
    "data.loc[data['Harvest Year'] == '2017/2018', 'Harvest Year'] = '2017 / 2018'\n",
    "data.loc[data['Harvest Year'] == '2019/2020', 'Harvest Year'] = '2019 / 2020'\n",
    "data.loc[data['Harvest Year'] == '2024/2025', 'Harvest Year'] = '2024 / 2025'\n",
    "data.loc[data['Harvest Year'] == '2020/2021', 'Harvest Year'] = '2020 / 2021'\n",
    "data.loc[data['Harvest Year'] == '2023/2024', 'Harvest Year'] = '2023 / 2024'\n",
    "data.loc[data['Harvest Year'] == '2022/2023', 'Harvest Year'] = '2022 / 2023'\n",
    "data.loc[data['Harvest Year'] == '2025/2026', 'Harvest Year'] = '2025 / 2026'\n",
    "data.loc[data['Harvest Year'] == 'March 2010', 'Harvest Year'] = '2010'\n",
    "data.loc[data['Harvest Year'] == 'Sept 2009 - April 2010', 'Harvest Year'] = '2009 / 2010'\n",
    "data.loc[data['Harvest Year'] == 'May-August', 'Harvest Year'] = '2009'\n",
    "data.loc[data['Harvest Year'] == 'Fall 2009', 'Harvest Year'] = '2009'\n",
    "data.loc[data['Harvest Year'] == '2010-2011', 'Harvest Year'] = '2010 / 2011'\n",
    "data.loc[data['Harvest Year'] == '2009-2010', 'Harvest Year'] = '2009 / 2010'\n",
    "data.loc[data['Harvest Year'] == '2009 - 2010', 'Harvest Year'] = '2009 / 2010'\n",
    "data.loc[data['Harvest Year'] == 'December 2009-March 2010', 'Harvest Year'] = '2009 / 2010'\n",
    "data.loc[data['Harvest Year'] == 'January 2011', 'Harvest Year'] = '2011'\n",
    "data.loc[data['Harvest Year'] == '4T/10', 'Harvest Year'] = '2010'\n",
    "data.loc[data['Harvest Year'] == '4t/2010', 'Harvest Year'] = '2010'\n",
    "data.loc[data['Harvest Year'] == '4t/2011', 'Harvest Year'] = '2011'\n",
    "data.loc[data['Harvest Year'] == '4T/2010', 'Harvest Year'] = '2010'\n",
    "data.loc[data['Harvest Year'] == '47/2010', 'Harvest Year'] = '2010'\n",
    "data.loc[data['Harvest Year'] == '4T72010', 'Harvest Year'] = '2010'\n",
    "data.loc[data['Harvest Year'] == '1t/2011', 'Harvest Year'] = '2011'\n",
    "data.loc[data['Harvest Year'] == '1T/2011', 'Harvest Year'] = '2011'\n",
    "data.loc[data['Harvest Year'] == '3T/2011', 'Harvest Year'] = '2011'\n",
    "data.loc[data['Harvest Year'] == '23 July 2010', 'Harvest Year'] = '2010'\n",
    "data.loc[data['Harvest Year'] == 'January Through April', 'Harvest Year'] = '2010'\n",
    "data.loc[data['Harvest Year'] == 'August to December', 'Harvest Year'] = '2009'\n",
    "data.loc[data['Harvest Year'] == 'Mayo a Julio', 'Harvest Year'] = '2011'\n",
    "data.loc[data['Harvest Year'] == 'Abril - Julio', 'Harvest Year'] = '2010'\n",
    "data.loc[data['Harvest Year'] == 'Abril - Julio /2011', 'Harvest Year'] = '2011'\n",
    "data.loc[data['Harvest Year'] == 'Spring 2011 in Colombia.', 'Harvest Year'] = '2011'\n",
    "data.loc[data['Harvest Year'] == '08/09 crop', 'Harvest Year'] = '2008 / 2009'\n",
    "\n",
    "# Drop rows where 'City' is 'New York' using drop()\n",
    "data = data[(data['Harvest Year'] != 'mmm') & (data['Harvest Year'] != 'TEST')]\n",
    "\n",
    "# get number of NA's\n",
    "print(data['Harvest Year'].isna().sum())\n",
    "\n",
    "# verify the fixes worked\n",
    "print(\"Number of unique harvest years after: \" + str(data['Harvest Year'].nunique()))\n",
    "data['Harvest Year'].unique()"
   ]
  },
  {
   "cell_type": "code",
   "execution_count": 14,
   "id": "850283f7",
   "metadata": {},
   "outputs": [
    {
     "name": "stdout",
     "output_type": "stream",
     "text": [
      "Number of unique processing methods before: 20\n",
      "Number of unique processing methods after: 19\n"
     ]
    },
    {
     "data": {
      "text/plain": [
       "array(['Washed / Wet', 'Natural / Dry', 'Pulped Natural / Honey',\n",
       "       'Washed', 'Fermented Natural', 'Anaerobic Washed Process', nan,\n",
       "       'Intrinsic Cherry', 'Dynamic Cherry', 'Aerobic Natural',\n",
       "       'Wash Carbonic Process', 'Anaerobic washed', 'Anaerobic',\n",
       "       'Dual Fermentation Honey', 'Deep Washed', 'Wild Luwak & Dry Hull',\n",
       "       'Fully Washed', 'Honey Process', 'Semi-washed / Semi-pulped',\n",
       "       'Other'], dtype=object)"
      ]
     },
     "execution_count": 14,
     "metadata": {},
     "output_type": "execute_result"
    }
   ],
   "source": [
    "print(\"Number of unique processing methods before: \" + str(data['Processing Method'].nunique()))\n",
    "\n",
    "data.loc[data['Processing Method'] == 'Pulped natural / honey', 'Processing Method'] = 'Pulped Natural / Honey'\n",
    "data.loc[data['Processing Method'] == 'DEEP WASHED', 'Processing Method'] = 'Deep Washed'\n",
    "data.loc[data['Processing Method'] == 'WASHED', 'Processing Method'] = 'Washed'\n",
    "data.loc[data['Processing Method'] == 'intrinsic cherry', 'Processing Method'] = 'Intrinsic Cherry'\n",
    "data.loc[data['Processing Method'] == 'Aerobic natural', 'Processing Method'] = 'Aerobic Natural'\n",
    "data.loc[data['Processing Method'] == 'Anaerobic Natural 90hrs', 'Processing Method'] = 'Aerobic Natural'\n",
    "data.loc[data['Processing Method'] == 'Aerobic washed', 'Processing Method'] = 'Aerobic Washed'\n",
    "data.loc[data['Processing Method'] == 'anaerobic', 'Processing Method'] = 'Anaerobic'\n",
    "\n",
    "print(\"Number of unique processing methods after: \" + str(data['Processing Method'].nunique()))\n",
    "data['Processing Method'].unique()"
   ]
  },
  {
   "cell_type": "code",
   "execution_count": 15,
   "id": "c510b69d",
   "metadata": {},
   "outputs": [],
   "source": [
    "drop_nans = ['Quakers', 'Harvest Year', 'Color', 'Country of Origin', 'Processing Method']\n",
    "# drop any additional NaN values\n",
    "for cols in drop_nans:\n",
    "    data = data.dropna(subset=[cols])"
   ]
  },
  {
   "cell_type": "code",
   "execution_count": 16,
   "id": "c7fc6ff8",
   "metadata": {},
   "outputs": [
    {
     "data": {
      "text/plain": [
       "Unnamed: 0                 0\n",
       "Country of Origin          0\n",
       "Farm Name                244\n",
       "Lot Number               789\n",
       "Mill                     190\n",
       "ICO Number               406\n",
       "Company                   71\n",
       "Altitude                 125\n",
       "Region                    22\n",
       "Producer                 149\n",
       "Number of Bags             0\n",
       "Bag Weight                 0\n",
       "Harvest Year               0\n",
       "Grading Date               0\n",
       "Owner                      7\n",
       "Variety                   67\n",
       "Processing Method          0\n",
       "Aroma                      0\n",
       "Flavor                     0\n",
       "Aftertaste                 0\n",
       "Acidity                    0\n",
       "Body                       0\n",
       "Balance                    0\n",
       "Uniformity                 0\n",
       "Clean Cup                  0\n",
       "Sweetness                  0\n",
       "Total Cup Points           0\n",
       "Category One Defects       0\n",
       "Quakers                    0\n",
       "Color                      0\n",
       "Category Two Defects       0\n",
       "Expiration                 0\n",
       "Certification Body         0\n",
       "Certification Address      0\n",
       "Certification Contact      0\n",
       "dtype: int64"
      ]
     },
     "execution_count": 16,
     "metadata": {},
     "output_type": "execute_result"
    }
   ],
   "source": [
    "data.isna().sum()"
   ]
  },
  {
   "cell_type": "code",
   "execution_count": 17,
   "id": "d6802e6b",
   "metadata": {},
   "outputs": [],
   "source": [
    "data.to_csv('processed_data/arabica_data_combined.csv')"
   ]
  },
  {
   "cell_type": "markdown",
   "id": "9dbd40d0",
   "metadata": {},
   "source": [
    "# Basic Visualization"
   ]
  },
  {
   "cell_type": "code",
   "execution_count": null,
   "id": "1bcd81ee",
   "metadata": {},
   "outputs": [],
   "source": []
  }
 ],
 "metadata": {
  "kernelspec": {
   "display_name": ".venv",
   "language": "python",
   "name": "python3"
  },
  "language_info": {
   "codemirror_mode": {
    "name": "ipython",
    "version": 3
   },
   "file_extension": ".py",
   "mimetype": "text/x-python",
   "name": "python",
   "nbconvert_exporter": "python",
   "pygments_lexer": "ipython3",
   "version": "3.13.7"
  }
 },
 "nbformat": 4,
 "nbformat_minor": 5
}
